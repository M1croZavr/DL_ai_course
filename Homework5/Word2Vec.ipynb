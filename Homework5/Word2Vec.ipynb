{
 "cells": [
  {
   "cell_type": "markdown",
   "metadata": {},
   "source": [
    "# Задание 5.1 - Word2Vec\n",
    "\n",
    "В этом задании мы натренируем свои word vectors на очень небольшом датасете.\n",
    "Мы будем использовать самую простую версию word2vec, без negative sampling и других оптимизаций.\n",
    "\n",
    "Перед запуском нужно запустить скрипт `download_data.sh` чтобы скачать данные.\n",
    "\n",
    "Датасет и модель очень небольшие, поэтому это задание можно выполнить и без GPU."
   ]
  },
  {
   "cell_type": "code",
   "execution_count": 192,
   "metadata": {},
   "outputs": [],
   "source": [
    "import torch\n",
    "import torch.nn as nn\n",
    "import torch.optim as optim\n",
    "from torch.utils.data import Dataset\n",
    "\n",
    "from torchvision import transforms\n",
    "\n",
    "import numpy as np\n",
    "import matplotlib.pyplot as plt\n",
    "\n",
    "# We'll use Principal Component Analysis (PCA) to visualize word vectors,\n",
    "# so make sure you install dependencies from requirements.txt!\n",
    "from sklearn.decomposition import PCA \n",
    "\n",
    "%matplotlib inline"
   ]
  },
  {
   "cell_type": "code",
   "execution_count": 215,
   "metadata": {
    "scrolled": false
   },
   "outputs": [
    {
     "name": "stdout",
     "output_type": "stream",
     "text": [
      "Num tokens: 19538\n",
      "capturing ['clever', 'the', 'precarious']\n",
      "constructed ['intricately', 'strange', 'nails']\n",
      "d.j. ['qualls', 'indiana']\n",
      "t ['he', 'ideas']\n",
      "low-budget ['overall', 'pilot', 'buyer']\n"
     ]
    }
   ],
   "source": [
    "import os\n",
    "import numpy as np\n",
    "\n",
    "\n",
    "class StanfordTreeBank:\n",
    "    '''\n",
    "    Wrapper for accessing Stanford Tree Bank Dataset\n",
    "    https://nlp.stanford.edu/sentiment/treebank.html\n",
    "    \n",
    "    Parses dataset, gives each token index and provides lookups\n",
    "    from string token to index and back\n",
    "    \n",
    "    Allows to generate random context with sampling strategy described in\n",
    "    word2vec paper:\n",
    "    https://papers.nips.cc/paper/5021-distributed-representations-of-words-and-phrases-and-their-compositionality.pdf\n",
    "    '''\n",
    "    def __init__(self):\n",
    "        self.index_by_token = {}\n",
    "        self.token_by_index = []\n",
    "\n",
    "        self.sentences = []\n",
    "\n",
    "        self.token_freq = {}\n",
    "        \n",
    "        self.token_reject_by_index = None\n",
    "\n",
    "    def load_dataset(self, folder):\n",
    "        filename = os.path.join(folder, \"datasetSentences.txt\")\n",
    "\n",
    "        with open(filename, \"r\", encoding=\"latin1\") as f:\n",
    "            l = f.readline() # skip the first line\n",
    "            \n",
    "            for l in f:\n",
    "                splitted_line = l.strip().split()\n",
    "                words = [w.lower() for w in splitted_line[1:]] # First one is a number\n",
    "                    \n",
    "                self.sentences.append(words)\n",
    "                for word in words:\n",
    "                    if word in self.token_freq:\n",
    "                        self.token_freq[word] +=1 \n",
    "                    else:\n",
    "                        index = len(self.token_by_index)\n",
    "                        self.token_freq[word] = 1\n",
    "                        self.index_by_token[word] = index\n",
    "                        self.token_by_index.append(word)\n",
    "        self.compute_token_prob()\n",
    "                        \n",
    "    def compute_token_prob(self):\n",
    "        words_count = np.array([self.token_freq[token] for token in self.token_by_index])\n",
    "        words_freq = words_count / np.sum(words_count)\n",
    "        \n",
    "        # Following sampling strategy from word2vec paper:\n",
    "        # https://papers.nips.cc/paper/5021-distributed-representations-of-words-and-phrases-and-their-compositionality.pdf\n",
    "        self.token_reject_by_index = 1 - np.sqrt(1e-5 / words_freq)\n",
    "    \n",
    "    def check_reject(self, word):\n",
    "#         rand = np.random.rand()\n",
    "#         if np.random.rand() < self.token_reject_by_index[self.index_by_token[word]]:\n",
    "#             print(word)\n",
    "        return np.random.rand() > self.token_reject_by_index[self.index_by_token[word]]\n",
    "        \n",
    "    def get_random_context(self, context_length=5):\n",
    "        \"\"\"\n",
    "        Returns tuple of center word and list of context words\n",
    "        \"\"\"\n",
    "        sentence_sampled = []\n",
    "        while len(sentence_sampled) <= 2:\n",
    "            sentence_index = np.random.randint(len(self.sentences)) \n",
    "            sentence = self.sentences[sentence_index]\n",
    "            sentence_sampled = [word for word in sentence if self.check_reject(word)]\n",
    "    \n",
    "        center_word_index = np.random.randint(len(sentence_sampled))\n",
    "        \n",
    "        words_before = sentence_sampled[max(center_word_index - context_length // 2, 0):center_word_index]\n",
    "        words_after = sentence_sampled[center_word_index + 1: center_word_index+1+context_length // 2]\n",
    "        \n",
    "        return sentence_sampled[center_word_index], words_before + words_after\n",
    "    \n",
    "    def num_tokens(self):\n",
    "        return len(self.token_by_index)\n",
    "        \n",
    "data = StanfordTreeBank()\n",
    "data.load_dataset(\"./stanfordSentimentTreebank/\")\n",
    "\n",
    "print(\"Num tokens:\", data.num_tokens())\n",
    "for i in range(5):\n",
    "    center_word, other_words = data.get_random_context(5)\n",
    "    print(center_word, other_words)"
   ]
  },
  {
   "cell_type": "markdown",
   "metadata": {},
   "source": [
    "# Имплеменируем PyTorch-style Dataset для Word2Vec\n",
    "\n",
    "Этот Dataset должен сгенерировать много случайных контекстов и превратить их в сэмплы для тренировки.\n",
    "\n",
    "Напоминаем, что word2vec модель получает на вход One-hot вектор слова и тренирует простую сеть для предсказания на его основе соседних слов.\n",
    "Из набора слово-контекст создается N сэмплов (где N - количество слов в контексте):\n",
    "\n",
    "Например:\n",
    "\n",
    "Слово: `orders` и контекст: `['love', 'nicest', 'to', '50-year']` создадут 4 сэмпла:\n",
    "- input: `orders`, target: `love`\n",
    "- input: `orders`, target: `nicest`\n",
    "- input: `orders`, target: `to`\n",
    "- input: `orders`, target: `50-year`\n",
    "\n",
    "Все слова на входе и на выходе закодированы через one-hot encoding, с размером вектора равным количеству токенов."
   ]
  },
  {
   "cell_type": "code",
   "execution_count": 216,
   "metadata": {},
   "outputs": [
    {
     "name": "stdout",
     "output_type": "stream",
     "text": [
      "Sample - input: tensor([0., 0., 0.,  ..., 0., 0., 0.]), target: 7379\n"
     ]
    }
   ],
   "source": [
    "class Word2VecPlain(Dataset):\n",
    "    '''\n",
    "    PyTorch Dataset for plain Word2Vec.\n",
    "    Accepts StanfordTreebank as data and is able to generate dataset based on\n",
    "    a number of random contexts\n",
    "    '''\n",
    "    def __init__(self, data, num_contexts=30000):\n",
    "        '''\n",
    "        Initializes Word2VecPlain, but doesn't generate the samples yet\n",
    "        (for that, use generate_dataset)\n",
    "        Arguments:\n",
    "        data - StanfordTreebank instace\n",
    "        num_contexts - number of random contexts to use when generating a dataset\n",
    "        '''\n",
    "        # TODO: Implement what you need for other methods!\n",
    "        self.dataset = data\n",
    "        self.num_contexts = num_contexts\n",
    "        self.num_tokens = data.num_tokens()\n",
    "    \n",
    "    def generate_dataset(self):\n",
    "        '''\n",
    "        Generates dataset samples from random contexts\n",
    "        Note: there will be more samples than contexts because every context\n",
    "        can generate more than one sample\n",
    "        '''\n",
    "        # TODO: Implement generating the dataset\n",
    "        # You should sample num_contexts contexts from the data and turn them into samples\n",
    "        # Note you will have several samples from one context\n",
    "        self.samples = []\n",
    "        for context_idx in range(self.num_contexts):\n",
    "            center_word, context = self.dataset.get_random_context(context_length=5)\n",
    "            for context_word in context:\n",
    "                self.samples.append([center_word, context_word])\n",
    "            \n",
    "    def __len__(self):\n",
    "        '''\n",
    "        Returns total number of samples\n",
    "        '''\n",
    "        # TODO: Return the number of samples\n",
    "        return len(self.samples)\n",
    "    \n",
    "    def __getitem__(self, index):\n",
    "        '''\n",
    "        Returns i-th sample\n",
    "        \n",
    "        Return values:\n",
    "        input_vector - torch.Tensor with one-hot representation of the input vector\n",
    "        output_index - index of the target word (not torch.Tensor!)\n",
    "        '''\n",
    "        # TODO: Generate tuple of 2 return arguments for i-th sample\n",
    "        input_word, target_word = self.samples[index]\n",
    "        input_vector = torch.zeros((self.num_tokens, )).type(torch.FloatTensor)\n",
    "        input_vector[self.dataset.index_by_token[input_word]] = 1\n",
    "        return input_vector, self.dataset.index_by_token[target_word]\n",
    "\n",
    "dataset = Word2VecPlain(data, 10)\n",
    "dataset.generate_dataset()\n",
    "input_vector, target = dataset[3]\n",
    "print(\"Sample - input: %s, target: %s\" % (input_vector, int(target))) # target should be able to convert to int\n",
    "assert isinstance(input_vector, torch.Tensor)\n",
    "assert torch.sum(input_vector) == 1.0\n",
    "assert input_vector.shape[0] == data.num_tokens()"
   ]
  },
  {
   "cell_type": "markdown",
   "metadata": {},
   "source": [
    "# Создаем модель и тренируем ее"
   ]
  },
  {
   "cell_type": "code",
   "execution_count": 210,
   "metadata": {},
   "outputs": [
    {
     "data": {
      "text/plain": [
       "Sequential(\n",
       "  (0): Linear(in_features=19538, out_features=10, bias=False)\n",
       "  (1): Linear(in_features=10, out_features=19538, bias=False)\n",
       ")"
      ]
     },
     "execution_count": 210,
     "metadata": {},
     "output_type": "execute_result"
    }
   ],
   "source": [
    "# Create the usual PyTorch structures\n",
    "dataset = Word2VecPlain(data, 30000)\n",
    "dataset.generate_dataset()\n",
    "\n",
    "# We'll be training very small word vectors!\n",
    "wordvec_dim = 10\n",
    "\n",
    "# We can use a standard sequential model for this\n",
    "nn_model = nn.Sequential(\n",
    "            nn.Linear(dataset.num_tokens, wordvec_dim, bias=False),\n",
    "            nn.Linear(wordvec_dim, dataset.num_tokens, bias=False), \n",
    "         )\n",
    "nn_model.type(torch.FloatTensor)"
   ]
  },
  {
   "cell_type": "code",
   "execution_count": 211,
   "metadata": {},
   "outputs": [],
   "source": [
    "def extract_word_vectors(nn_model):\n",
    "    '''\n",
    "    Extracts word vectors from the model\n",
    "    \n",
    "    Returns:\n",
    "    input_vectors: torch.Tensor with dimensions (num_tokens, num_dimensions)\n",
    "    output_vectors: torch.Tensor with dimensions (num_tokens, num_dimensions)\n",
    "    '''\n",
    "    # TODO: Implement extracting word vectors from param weights\n",
    "    # return tuple of input vectors and output vectos \n",
    "    # Hint: you can access weights as Tensors through nn.Linear class attributes\n",
    "    it = iter(nn_model.parameters())\n",
    "    input_vectors = next(it).data.T\n",
    "    output_vectors = next(it).data\n",
    "    return input_vectors, output_vectors\n",
    "\n",
    "untrained_input_vectors, untrained_output_vectors = extract_word_vectors(nn_model)\n",
    "assert untrained_input_vectors.shape == (data.num_tokens(), wordvec_dim)\n",
    "assert untrained_output_vectors.shape == (data.num_tokens(), wordvec_dim)"
   ]
  },
  {
   "cell_type": "code",
   "execution_count": 198,
   "metadata": {},
   "outputs": [],
   "source": [
    "def train_model(model, dataset, train_loader, optimizer, scheduler, num_epochs):\n",
    "    '''\n",
    "    Trains plain word2vec using cross-entropy loss and regenerating dataset every epoch\n",
    "    \n",
    "    Returns:\n",
    "    loss_history, train_history\n",
    "    '''\n",
    "    \n",
    "    loss = nn.CrossEntropyLoss().type(torch.FloatTensor)\n",
    "    \n",
    "    loss_history = []\n",
    "    train_history = []\n",
    "    for epoch in range(num_epochs):\n",
    "        model.train() # Enter train mode\n",
    "        \n",
    "        dataset.generate_dataset() # Regenerate dataset every epoch\n",
    "        train_accuracy = 0\n",
    "        ave_loss = 0\n",
    "        for i, (x, y) in enumerate(train_loader):\n",
    "            # TODO Implement training for this model\n",
    "            logits = model(x)\n",
    "            l = loss(logits, y)\n",
    "            optimizer.zero_grad()\n",
    "            l.backward()\n",
    "            optimizer.step()\n",
    "            with torch.no_grad():\n",
    "                _, predictions = torch.max(logits, dim=1)\n",
    "                train_accuracy += torch.sum(predictions == y) / len(y)\n",
    "                ave_loss += l\n",
    "            # Note we don't have any validation set here because our purpose is the word vectors,\n",
    "            # not the predictive performance of the model\n",
    "            #\n",
    "            # And don't forget to step the learing rate scheduler! \n",
    "        train_accuracy = train_accuracy / (i + 1)\n",
    "        ave_loss = ave_loss / (i + 1)\n",
    "        train_history.append(train_accuracy)\n",
    "        loss_history.append(ave_loss)\n",
    "        scheduler.step()\n",
    "        print(\"Epoch %i, Average loss: %f, Train accuracy: %f\" % (epoch, ave_loss, train_accuracy))\n",
    "        \n",
    "    return loss_history, train_history, model"
   ]
  },
  {
   "cell_type": "markdown",
   "metadata": {},
   "source": [
    "# Ну и наконец тренировка!\n",
    "\n",
    "Добейтесь значения ошибки меньше **8.0**."
   ]
  },
  {
   "cell_type": "code",
   "execution_count": 199,
   "metadata": {},
   "outputs": [
    {
     "name": "stdout",
     "output_type": "stream",
     "text": [
      "Epoch 0, Average loss: 9.873825, Train accuracy: 0.001247\n",
      "Epoch 1, Average loss: 9.823953, Train accuracy: 0.002289\n",
      "Epoch 2, Average loss: 9.653074, Train accuracy: 0.002337\n",
      "Epoch 3, Average loss: 9.493292, Train accuracy: 0.002681\n",
      "Epoch 4, Average loss: 9.380943, Train accuracy: 0.003591\n",
      "Epoch 5, Average loss: 9.277118, Train accuracy: 0.004838\n",
      "Epoch 6, Average loss: 9.189178, Train accuracy: 0.007222\n",
      "Epoch 7, Average loss: 9.090180, Train accuracy: 0.008732\n",
      "Epoch 8, Average loss: 8.998115, Train accuracy: 0.010473\n",
      "Epoch 9, Average loss: 8.942272, Train accuracy: 0.011679\n",
      "Epoch 10, Average loss: 8.806127, Train accuracy: 0.014987\n",
      "Epoch 11, Average loss: 8.692341, Train accuracy: 0.016759\n",
      "Epoch 12, Average loss: 8.629118, Train accuracy: 0.017947\n",
      "Epoch 13, Average loss: 8.583725, Train accuracy: 0.018646\n",
      "Epoch 14, Average loss: 8.513817, Train accuracy: 0.020604\n",
      "Epoch 15, Average loss: 8.481490, Train accuracy: 0.021478\n",
      "Epoch 16, Average loss: 8.465150, Train accuracy: 0.021429\n",
      "Epoch 17, Average loss: 8.412940, Train accuracy: 0.022705\n",
      "Epoch 18, Average loss: 8.391665, Train accuracy: 0.022590\n",
      "Epoch 19, Average loss: 8.361057, Train accuracy: 0.023293\n",
      "Epoch 20, Average loss: 8.304347, Train accuracy: 0.026947\n",
      "Epoch 21, Average loss: 8.246077, Train accuracy: 0.027772\n",
      "Epoch 22, Average loss: 8.210250, Train accuracy: 0.028083\n",
      "Epoch 23, Average loss: 8.185853, Train accuracy: 0.028295\n",
      "Epoch 24, Average loss: 8.148715, Train accuracy: 0.028508\n",
      "Epoch 25, Average loss: 8.145951, Train accuracy: 0.028022\n",
      "Epoch 26, Average loss: 8.134836, Train accuracy: 0.029112\n",
      "Epoch 27, Average loss: 8.097113, Train accuracy: 0.029206\n",
      "Epoch 28, Average loss: 8.074985, Train accuracy: 0.030338\n",
      "Epoch 29, Average loss: 8.072138, Train accuracy: 0.030109\n",
      "Epoch 30, Average loss: 8.041211, Train accuracy: 0.032010\n",
      "Epoch 31, Average loss: 8.018332, Train accuracy: 0.031709\n",
      "Epoch 32, Average loss: 8.003229, Train accuracy: 0.032771\n",
      "Epoch 33, Average loss: 8.005337, Train accuracy: 0.032065\n",
      "Epoch 34, Average loss: 7.966892, Train accuracy: 0.032363\n",
      "Epoch 35, Average loss: 7.953857, Train accuracy: 0.033212\n",
      "Epoch 36, Average loss: 7.948945, Train accuracy: 0.033023\n",
      "Epoch 37, Average loss: 7.951282, Train accuracy: 0.032820\n",
      "Epoch 38, Average loss: 7.929109, Train accuracy: 0.033233\n",
      "Epoch 39, Average loss: 7.926893, Train accuracy: 0.033660\n",
      "Epoch 40, Average loss: 7.916690, Train accuracy: 0.033608\n",
      "Epoch 41, Average loss: 7.917343, Train accuracy: 0.034757\n",
      "Epoch 42, Average loss: 7.915555, Train accuracy: 0.034116\n",
      "Epoch 43, Average loss: 7.891554, Train accuracy: 0.034258\n",
      "Epoch 44, Average loss: 7.888089, Train accuracy: 0.035124\n",
      "Epoch 45, Average loss: 7.873697, Train accuracy: 0.034590\n",
      "Epoch 46, Average loss: 7.862468, Train accuracy: 0.035265\n",
      "Epoch 47, Average loss: 7.860744, Train accuracy: 0.034764\n",
      "Epoch 48, Average loss: 7.849323, Train accuracy: 0.035429\n",
      "Epoch 49, Average loss: 7.860924, Train accuracy: 0.035034\n",
      "Epoch 50, Average loss: 7.857147, Train accuracy: 0.035012\n",
      "Epoch 51, Average loss: 7.836819, Train accuracy: 0.035740\n",
      "Epoch 52, Average loss: 7.862405, Train accuracy: 0.034873\n",
      "Epoch 53, Average loss: 7.852817, Train accuracy: 0.034556\n",
      "Epoch 54, Average loss: 7.838783, Train accuracy: 0.035568\n",
      "Epoch 55, Average loss: 7.848514, Train accuracy: 0.034716\n",
      "Epoch 56, Average loss: 7.842147, Train accuracy: 0.034457\n",
      "Epoch 57, Average loss: 7.838106, Train accuracy: 0.034866\n",
      "Epoch 58, Average loss: 7.823532, Train accuracy: 0.035904\n",
      "Epoch 59, Average loss: 7.804893, Train accuracy: 0.035401\n",
      "Epoch 60, Average loss: 7.817607, Train accuracy: 0.035827\n",
      "Epoch 61, Average loss: 7.823831, Train accuracy: 0.036008\n",
      "Epoch 62, Average loss: 7.824996, Train accuracy: 0.034952\n",
      "Epoch 63, Average loss: 7.812363, Train accuracy: 0.035844\n",
      "Epoch 64, Average loss: 7.811942, Train accuracy: 0.035389\n",
      "Epoch 65, Average loss: 7.817331, Train accuracy: 0.035968\n",
      "Epoch 66, Average loss: 7.812546, Train accuracy: 0.035141\n",
      "Epoch 67, Average loss: 7.781940, Train accuracy: 0.037441\n",
      "Epoch 68, Average loss: 7.801130, Train accuracy: 0.037289\n",
      "Epoch 69, Average loss: 7.802022, Train accuracy: 0.035112\n",
      "Epoch 70, Average loss: 7.817295, Train accuracy: 0.035853\n",
      "Epoch 71, Average loss: 7.803925, Train accuracy: 0.035552\n",
      "Epoch 72, Average loss: 7.793105, Train accuracy: 0.036699\n",
      "Epoch 73, Average loss: 7.785389, Train accuracy: 0.035413\n",
      "Epoch 74, Average loss: 7.774895, Train accuracy: 0.037029\n",
      "Epoch 75, Average loss: 7.794424, Train accuracy: 0.036993\n",
      "Epoch 76, Average loss: 7.786811, Train accuracy: 0.036584\n",
      "Epoch 77, Average loss: 7.797781, Train accuracy: 0.036550\n",
      "Epoch 78, Average loss: 7.806782, Train accuracy: 0.035708\n",
      "Epoch 79, Average loss: 7.808810, Train accuracy: 0.034886\n",
      "Epoch 80, Average loss: 7.793884, Train accuracy: 0.036559\n",
      "Epoch 81, Average loss: 7.812873, Train accuracy: 0.035649\n",
      "Epoch 82, Average loss: 7.785966, Train accuracy: 0.036400\n",
      "Epoch 83, Average loss: 7.794721, Train accuracy: 0.035621\n",
      "Epoch 84, Average loss: 7.815126, Train accuracy: 0.036300\n",
      "Epoch 85, Average loss: 7.784709, Train accuracy: 0.036812\n",
      "Epoch 86, Average loss: 7.811108, Train accuracy: 0.035591\n",
      "Epoch 87, Average loss: 7.802801, Train accuracy: 0.035889\n",
      "Epoch 88, Average loss: 7.790519, Train accuracy: 0.036022\n",
      "Epoch 89, Average loss: 7.801654, Train accuracy: 0.035777\n",
      "Epoch 90, Average loss: 7.784665, Train accuracy: 0.036824\n",
      "Epoch 91, Average loss: 7.794994, Train accuracy: 0.035937\n",
      "Epoch 92, Average loss: 7.789765, Train accuracy: 0.036723\n",
      "Epoch 93, Average loss: 7.779951, Train accuracy: 0.036233\n",
      "Epoch 94, Average loss: 7.769804, Train accuracy: 0.037886\n",
      "Epoch 95, Average loss: 7.777534, Train accuracy: 0.036952\n",
      "Epoch 96, Average loss: 7.775901, Train accuracy: 0.036140\n",
      "Epoch 97, Average loss: 7.787777, Train accuracy: 0.036544\n",
      "Epoch 98, Average loss: 7.788426, Train accuracy: 0.036276\n",
      "Epoch 99, Average loss: 7.788139, Train accuracy: 0.035848\n"
     ]
    }
   ],
   "source": [
    "# Finally, let's train the model!\n",
    "\n",
    "# TODO: We use placeholder values for hyperparameters - you will need to find better values!\n",
    "optimizer = optim.SGD(nn_model.parameters(), lr=20)\n",
    "scheduler = optim.lr_scheduler.StepLR(optimizer, step_size=10, gamma=0.5)\n",
    "train_loader = torch.utils.data.DataLoader(dataset, batch_size=100)\n",
    "\n",
    "loss_history, train_history, nn_model = train_model(nn_model,\n",
    "                                                    dataset,\n",
    "                                                    train_loader,\n",
    "                                                    optimizer,\n",
    "                                                    scheduler,\n",
    "                                                    num_epochs=100)"
   ]
  },
  {
   "cell_type": "code",
   "execution_count": 200,
   "metadata": {},
   "outputs": [
    {
     "data": {
      "text/plain": [
       "[<matplotlib.lines.Line2D at 0x234e7896640>]"
      ]
     },
     "execution_count": 200,
     "metadata": {},
     "output_type": "execute_result"
    },
    {
     "data": {
      "image/png": "[encoded data removed]",
      "text/plain": [
       "<Figure size 432x288 with 2 Axes>"
      ]
     },
     "metadata": {
      "needs_background": "light"
     },
     "output_type": "display_data"
    }
   ],
   "source": [
    "# Visualize training graphs\n",
    "plt.subplot(211)\n",
    "plt.plot(train_history)\n",
    "plt.subplot(212)\n",
    "plt.plot(list(map(lambda x: x.detach().numpy(), loss_history)))"
   ]
  },
  {
   "cell_type": "markdown",
   "metadata": {},
   "source": [
    "# Визуализируем вектора для разного вида слов до и после тренировки\n",
    "\n",
    "В случае успешной тренировки вы должны увидеть как вектора слов разных типов (например, знаков препинания, предлогов и остальных) разделяются семантически.\n",
    "\n",
    "Студенты - в качестве выполненного задания присылайте notebook с диаграммами!"
   ]
  },
  {
   "cell_type": "code",
   "execution_count": 209,
   "metadata": {},
   "outputs": [],
   "source": [
    "trained_input_vectors, trained_output_vectors = extract_word_vectors(nn_model)\n",
    "assert trained_input_vectors.shape == (data.num_tokens(), wordvec_dim)\n",
    "assert trained_output_vectors.shape == (data.num_tokens(), wordvec_dim)"
   ]
  },
  {
   "cell_type": "code",
   "execution_count": 234,
   "metadata": {},
   "outputs": [
    {
     "data": {
      "image/png": "[encoded data removed]",
      "text/plain": [
       "<Figure size 504x504 with 1 Axes>"
      ]
     },
     "metadata": {
      "needs_background": "light"
     },
     "output_type": "display_data"
    },
    {
     "data": {
      "image/png": "[encoded data removed]",
      "text/plain": [
       "<Figure size 504x504 with 1 Axes>"
      ]
     },
     "metadata": {
      "needs_background": "light"
     },
     "output_type": "display_data"
    }
   ],
   "source": [
    "def visualize_vectors(input_vectors, output_vectors, title=''):\n",
    "    full_vectors = torch.cat((input_vectors, output_vectors), 0)\n",
    "    wordvec_embedding = PCA(n_components=2).fit_transform(full_vectors)\n",
    "\n",
    "    # Helpful words form CS244D example\n",
    "    # http://cs224d.stanford.edu/assignment1/index.html\n",
    "    visualize_words = {'green': [\"the\", \"a\", \"an\"], \n",
    "                      'blue': [\",\", \".\", \"?\", \"!\", \"``\", \"''\", \"--\"], \n",
    "                      'brown': [\"good\", \"great\", \"cool\", \"brilliant\", \"wonderful\", \n",
    "                              \"well\", \"amazing\", \"worth\", \"sweet\", \"enjoyable\"],\n",
    "                      'orange': [\"boring\", \"bad\", \"waste\", \"dumb\", \"annoying\", \"stupid\"],\n",
    "                      'red': ['tell', 'told', 'said', 'say', 'says', 'tells', 'goes', 'go', 'went']\n",
    "                     }\n",
    "\n",
    "    plt.figure(figsize=(7,7))\n",
    "    plt.suptitle(title)\n",
    "    for color, words in visualize_words.items():\n",
    "        points = np.array([wordvec_embedding[data.index_by_token[w]] for w in words])\n",
    "        for i, word in enumerate(words):\n",
    "            plt.text(points[i, 0], points[i, 1], word, color=color, horizontalalignment='center')\n",
    "        plt.scatter(points[:, 0], points[:, 1], c=color, alpha=0.3, s=0.1)\n",
    "\n",
    "visualize_vectors(untrained_input_vectors, untrained_output_vectors, \"Untrained word vectors\")\n",
    "visualize_vectors(trained_input_vectors, trained_output_vectors, \"Trained word vectors\")"
   ]
  }
 ],
 "metadata": {
  "kernelspec": {
   "display_name": "Python 3 (ipykernel)",
   "language": "python",
   "name": "python3"
  },
  "language_info": {
   "codemirror_mode": {
    "name": "ipython",
    "version": 3
   },
   "file_extension": ".py",
   "mimetype": "text/x-python",
   "name": "python",
   "nbconvert_exporter": "python",
   "pygments_lexer": "ipython3",
   "version": "3.8.8"
  }
 },
 "nbformat": 4,
 "nbformat_minor": 2
}
